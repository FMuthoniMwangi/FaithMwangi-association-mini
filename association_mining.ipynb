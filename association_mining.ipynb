{
 "cells": [
  {
   "cell_type": "markdown",
   "id": "9e27e5d5",
   "metadata": {},
   "source": [
    "## 1. Simulate Transaction Data"
   ]
  },
  {
   "cell_type": "code",
   "execution_count": null,
   "id": "2bfdd9fc",
   "metadata": {},
   "outputs": [],
   "source": [
    "import random\n",
    "import pandas as pd\n",
    "\n",
    "random.seed(42)\n",
    "items_pool = ['Indomie', 'Bread', 'Juice', 'Eggs', 'Oatmeal', 'Onions', 'Tomatoes', 'Potatoes']\n",
    "\n",
    "transactions = []\n",
    "for _ in range(50): # Generate 50 transactions\n",
    "    transaction = set(random.sample(items_pool, k=random.randint(2, 5)))\n",
    "    # Boost some common pairs\n",
    "    if random.random() < 0.3:\n",
    "        transaction.update(['Bread', 'Eggs'])\n",
    "    if random.random() < 0.2:\n",
    "        transaction.update(['Juice', 'Oatmeal'])\n",
    "    transactions.append(list(transaction))"
   ]
  },
  {
   "cell_type": "markdown",
   "id": "f684cde4",
   "metadata": {},
   "source": [
    "## 2. Analyze with Apriori "
   ]
  },
  {
   "cell_type": "code",
   "execution_count": 24,
   "id": "f89da933",
   "metadata": {},
   "outputs": [
    {
     "name": "stdout",
     "output_type": "stream",
     "text": [
      "    support              itemsets\n",
      "0      0.66               (Bread)\n",
      "1      0.58                (Eggs)\n",
      "2      0.42             (Indomie)\n",
      "3      0.58               (Juice)\n",
      "4      0.48             (Oatmeal)\n",
      "5      0.52              (Onions)\n",
      "6      0.38            (Potatoes)\n",
      "7      0.42            (Tomatoes)\n",
      "8      0.50         (Eggs, Bread)\n",
      "9      0.40        (Bread, Juice)\n",
      "10     0.30      (Bread, Oatmeal)\n",
      "11     0.32       (Onions, Bread)\n",
      "12     0.30     (Bread, Tomatoes)\n",
      "13     0.34         (Eggs, Juice)\n",
      "14     0.32      (Juice, Oatmeal)\n",
      "15     0.30  (Eggs, Bread, Juice)\n"
     ]
    }
   ],
   "source": [
    "from mlxtend.preprocessing import TransactionEncoder\n",
    "from mlxtend.frequent_patterns import apriori\n",
    "\n",
    "# One-hot encode the transaction data\n",
    "te = TransactionEncoder()\n",
    "te_ary = te.fit(transactions).transform(transactions)\n",
    "df = pd.DataFrame(te_ary, columns=te.columns_)\n",
    "\n",
    "# Apply Apriori algorithm with minimum support of 0.3 (30%)\n",
    "frequent_itemsets = apriori(df, min_support=0.3, use_colnames=True)\n",
    "print(frequent_itemsets)"
   ]
  },
  {
   "cell_type": "markdown",
   "id": "c5f65aac",
   "metadata": {},
   "source": [
    "## Step 3: Association Rules\n",
    "\n",
    "The following rules were found with minimum support 0.3 and minimum confidence 0.7:\n",
    "\n",
    "| Antecedents | Consequents | Support | Confidence | Lift |\n",
    "|-------------|-------------|---------|------------|------|\n",
    "| (Eggs)      | (Bread)     | 0.5     | 0.86       | 1.31 |\n",
    "| (Bread)     | (Eggs)      | 0.5     | 0.76       | 1.31 |\n",
    "| (Tomatoes)  | (Bread)     | 0.3     | 0.71       | 1.08 |\n",
    "\n",
    "**Example interpretation:**  \n",
    "If a customer buys Eggs, they are also likely to buy Bread (confidence: 0.86).  \n",
    "This means these items are often bought together, so a store could put them on the same shelf or offer a combo deal."
   ]
  },
  {
   "cell_type": "code",
   "execution_count": null,
   "id": "69eacaf1",
   "metadata": {},
   "outputs": [
    {
     "name": "stdout",
     "output_type": "stream",
     "text": [
      "  antecedents consequents  support  confidence      lift\n",
      "0      (Eggs)     (Bread)      0.5    0.862069  1.306165\n",
      "1     (Bread)      (Eggs)      0.5    0.757576  1.306165\n",
      "2  (Tomatoes)     (Bread)      0.3    0.714286  1.082251\n"
     ]
    }
   ],
   "source": [
    "from mlxtend.frequent_patterns import association_rules\n",
    "\n",
    "rules = association_rules(frequent_itemsets, metric=\"confidence\", min_threshold=0.7)\n",
    "\n",
    "# Show rules\n",
    "if not rules.empty:\n",
    "    print(rules[['antecedents', 'consequents', 'support', 'confidence', 'lift']].head(3))\n",
    "else:\n",
    "    print(\"No rules found. Try increasing transactions or lowering confidence threshold.\")\n"
   ]
  }
 ],
 "metadata": {
  "kernelspec": {
   "display_name": "Python 3",
   "language": "python",
   "name": "python3"
  },
  "language_info": {
   "codemirror_mode": {
    "name": "ipython",
    "version": 3
   },
   "file_extension": ".py",
   "mimetype": "text/x-python",
   "name": "python",
   "nbconvert_exporter": "python",
   "pygments_lexer": "ipython3",
   "version": "3.11.9"
  }
 },
 "nbformat": 4,
 "nbformat_minor": 5
}
