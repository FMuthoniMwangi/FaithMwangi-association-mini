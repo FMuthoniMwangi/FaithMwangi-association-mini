{
 "cells": [
  {
   "cell_type": "markdown",
   "id": "9e27e5d5",
   "metadata": {},
   "source": [
    "1. Simulate Transaction Data"
   ]
  },
  {
   "cell_type": "code",
   "execution_count": 3,
   "id": "2bfdd9fc",
   "metadata": {},
   "outputs": [
    {
     "name": "stdout",
     "output_type": "stream",
     "text": [
      "Transaction 1: ['Indomie', 'Onions']\n",
      "Transaction 2: ['Eggs', 'Bread', 'Tomatoes', 'Indomie']\n",
      "Transaction 3: ['Tomatoes', 'Indomie']\n",
      "Transaction 4: ['Bread', 'Potatoes']\n",
      "Transaction 5: ['Indomie', 'Oatmeal', 'Bread']\n",
      "Transaction 6: ['Eggs', 'Potatoes', 'Oatmeal', 'Juice', 'Indomie']\n",
      "Transaction 7: ['Tomatoes', 'Juice', 'Potatoes']\n",
      "Transaction 8: ['Eggs', 'Tomatoes', 'Juice']\n",
      "Transaction 9: ['Bread', 'Eggs']\n",
      "Transaction 10: ['Onions', 'Tomatoes']\n"
     ]
    }
   ],
   "source": [
    "import random\n",
    "import pandas as pd\n",
    "\n",
    "random.seed(42)\n",
    "#grocery items\n",
    "items_pool = ['Indomie', 'Bread', 'Juice', 'Eggs', 'Oatmeal', 'Onions', 'Tomatoes', 'Potatoes']\n",
    "\n",
    "#set the number of transactions between 2 and 5 items\n",
    "transactions = []\n",
    "for _ in range(10):\n",
    "    transaction = random.sample(items_pool, k=random.randint(2, 5))\n",
    "    transactions.append(transaction)\n",
    "    \n",
    "for i, t in enumerate(transactions):\n",
    "    print(f\"Transaction {i+1}: {t}\")"
   ]
  }
 ],
 "metadata": {
  "kernelspec": {
   "display_name": "Python 3",
   "language": "python",
   "name": "python3"
  },
  "language_info": {
   "codemirror_mode": {
    "name": "ipython",
    "version": 3
   },
   "file_extension": ".py",
   "mimetype": "text/x-python",
   "name": "python",
   "nbconvert_exporter": "python",
   "pygments_lexer": "ipython3",
   "version": "3.11.9"
  }
 },
 "nbformat": 4,
 "nbformat_minor": 5
}
